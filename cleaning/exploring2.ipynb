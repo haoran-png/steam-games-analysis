{
 "cells": [
  {
   "cell_type": "markdown",
   "id": "f303fbb4",
   "metadata": {},
   "source": []
  },
  {
   "cell_type": "markdown",
   "id": "b769221d",
   "metadata": {},
   "source": [
    "# Attemp number 2\n",
    "This attemp includes findings from my previous attemp, bringing them together to form a more refined approach at producing a fully cleaned dataset"
   ]
  },
  {
   "cell_type": "code",
   "execution_count": null,
   "id": "ed559ac7",
   "metadata": {},
   "outputs": [
    {
     "data": {
      "text/plain": [
       "AppID                                int64\n",
       "Name                                object\n",
       "Release date                datetime64[ns]\n",
       "Estimated owners                    object\n",
       "Required age                         int64\n",
       "Price                              float64\n",
       "User score                           int64\n",
       "Positive                             int64\n",
       "Negative                             int64\n",
       "Recommendations                      int64\n",
       "Average playtime forever             int64\n",
       "Developers                          object\n",
       "Publishers                          object\n",
       "Categories                          object\n",
       "Genres                              object\n",
       "Tags                                object\n",
       "Average owners                     float64\n",
       "Positive ratio                     float64\n",
       "Estimated average owners           float64\n",
       "dtype: object\n"
      ]
     },
     "metadata": {},
     "output_type": "display_data"
    }
   ],
   "source": [
    "import pandas as pd\n",
    "import numpy as np\n",
    "from pathlib import Path\n",
    "\n",
    "script_path = Path.cwd()\n",
    "data_path_cleaned = script_path / \"data\" / \"games_cleaned.csv\"\n",
    "\n",
    "df = pd.read_csv(data_path_cleaned, encoding='utf-8')\n",
    "\n",
    "# Dtatype conversion\n",
    "df['Release date'] = pd.to_datetime(df['Release date'], errors='coerce')\n",
    "print(df.dtypes)"
   ]
  },
  {
   "cell_type": "markdown",
   "id": "1880d1a8",
   "metadata": {},
   "source": [
    "## Estimated average owners"
   ]
  },
  {
   "cell_type": "code",
   "execution_count": null,
   "id": "cb55c2d7",
   "metadata": {},
   "outputs": [
    {
     "data": {
      "text/plain": [
       "  Estimated owners  Estimated average owners\n",
       "0        0 - 20000                   10000.0\n",
       "1        0 - 20000                   10000.0\n",
       "2   50000 - 100000                   10000.0\n",
       "3        0 - 20000                   10000.0\n",
       "4   50000 - 100000                   10000.0\n",
       "5        0 - 20000                   75000.0\n",
       "6        0 - 20000                   10000.0\n",
       "7        0 - 20000                   10000.0\n",
       "8  100000 - 200000                   10000.0\n",
       "9        0 - 20000                   75000.0\n"
      ]
     },
     "metadata": {},
     "output_type": "display_data"
    }
   ],
   "source": [
    "# Split 'Estimated owners' into two columns and calculate the average\n",
    "owners_clean = owners_clean.str.replace(' ', '', regex=False)\n",
    "\n",
    "owners_split = owners_clean.str.split('-', expand=True)\n",
    "\n",
    "owners_split[0] = pd.to_numeric(owners_split[0], errors='coerce')\n",
    "owners_split[1] = pd.to_numeric(owners_split[1], errors='coerce')\n",
    "\n",
    "df['Estimated average owners'] = (owners_split[0] + owners_split[1]) / 2\n",
    "\n",
    "print(df[['Estimated owners', 'Estimated average owners']].head(10))"
   ]
  },
  {
   "cell_type": "markdown",
   "id": "07a2c74f",
   "metadata": {},
   "source": [
    "## Reranging the dataset"
   ]
  },
  {
   "cell_type": "code",
   "execution_count": null,
   "id": "3fa0332d",
   "metadata": {},
   "outputs": [
    {
     "data": {
      "text/plain": [
       "(660, 20)\n",
       "       Estimated average owners  Positive ratio Release date\n",
       "17585               150000000.0        0.451613   2018-03-27\n",
       "7030                 75000000.0        1.000000   2024-02-08\n",
       "30583                75000000.0        0.990932   2020-09-03\n",
       "8885                 75000000.0        0.800000   2019-01-14\n",
       "46158                75000000.0        0.796296   2017-01-05\n",
       "96966                75000000.0        0.222222   2017-04-05\n",
       "7015                 35000000.0        1.000000   2024-03-21\n",
       "28893                35000000.0        1.000000   2019-11-14\n",
       "31603                35000000.0        0.967552   2019-11-05\n",
       "32756                35000000.0        0.952239   2023-09-29\n"
      ]
     },
     "metadata": {},
     "output_type": "display_data"
    }
   ],
   "source": [
    "# Adding new column for lowercase names\n",
    "df['Name_lowercase'] = df['Name'].str.lower().str.strip()\n",
    "\n",
    "# Check for duplicates\n",
    "duplicates = df[df['Name_lowercase'].duplicated(keep=False)]\n",
    "print(duplicates.shape)\n",
    "\n",
    "# Reranging the dataset based on the priorities while making new columns for better sorting\n",
    "df['Positive ratio'] = df['Positive'] / (df['Positive'] + df['Negative']).replace(0, np.nan)\n",
    "\n",
    "df_sorted = df.sort_values(\n",
    "    by=['Estimated average owners', 'Positive ratio', 'Release date'],\n",
    "    ascending=[False, False, False]\n",
    ")\n",
    "\n",
    "print(df_sorted[['Estimated average owners','Positive ratio','Release date']].head(10))"
   ]
  },
  {
   "cell_type": "markdown",
   "id": "fb9c155f",
   "metadata": {},
   "source": [
    "### Missing values"
   ]
  },
  {
   "cell_type": "code",
   "execution_count": null,
   "id": "a8d79152",
   "metadata": {},
   "outputs": [
    {
     "data": {
      "text/plain": [
       "AppID                            0\n",
       "Name                             1\n",
       "Release date                   129\n",
       "Estimated owners                 0\n",
       "Required age                     0\n",
       "Price                            0\n",
       "User score                       0\n",
       "Positive                         0\n",
       "Negative                         0\n",
       "Recommendations                  0\n",
       "Average playtime forever         0\n",
       "Developers                    6443\n",
       "Publishers                    6741\n",
       "Categories                    7533\n",
       "Genres                        6414\n",
       "Tags                         36873\n",
       "Average owners              110326\n",
       "Positive ratio               37036\n",
       "Estimated average owners        23\n",
       "Name_lowercase                   1\n",
       "dtype: int64\n"
      ]
     },
     "metadata": {},
     "output_type": "display_data"
    }
   ],
   "source": [
    "# Initial exploration of missing values\n",
    "print(df.isnull().sum())"
   ]
  },
  {
   "cell_type": "code",
   "execution_count": null,
   "id": "766506d1",
   "metadata": {},
   "outputs": [
    {
     "data": {
      "text/plain": [
       "Developers: 2 rows can be filled from duplicates.\n",
       "Publishers: 4 rows can be filled from duplicates.\n",
       "Categories: 6 rows can be filled from duplicates.\n",
       "Genres: 0 rows can be filled from duplicates.\n",
       "Tags: 153 rows can be filled from duplicates.\n"
      ]
     },
     "metadata": {},
     "output_type": "display_data"
    }
   ],
   "source": [
    "# Number of missing values in major columns that can be found in duplicates\n",
    "columns_to_check = ['Developers', 'Publishers', 'Categories', 'Genres', 'Tags']\n",
    "\n",
    "for col in columns_to_check:\n",
    "    missing_rows = df[df[col].isnull()]\n",
    "    \n",
    "    can_be_filled = missing_rows['Name_lowercase'].isin(\n",
    "        df[~df[col].isnull()]['Name_lowercase']\n",
    "    )\n",
    "    \n",
    "    fillable_rows = missing_rows[can_be_filled]\n",
    "    \n",
    "    print(f\"{col}: {len(fillable_rows)} rows can be filled from duplicates.\")\n"
   ]
  },
  {
   "cell_type": "markdown",
   "id": "28dd65ff",
   "metadata": {},
   "source": [
    "\n",
    "To fill the datas across duplicated game entries, I grouped rows by `Name_lowercase` and updated using `.update` with `.ffill` and `.bfill` to propagate only missing values within each group. This way, no matter which duplicate held the information, all rows for the same game now share the filled values\n"
   ]
  },
  {
   "cell_type": "code",
   "execution_count": null,
   "id": "bd379a51",
   "metadata": {},
   "outputs": [],
   "source": [
    "# Filling missing values from the duplicates\n",
    "cols_to_fill = ['Developers', 'Publishers', 'Categories', 'Genres', 'Tags']\n",
    "\n",
    "for col in cols_to_fill:\n",
    "    df.update(df.groupby('Name_lowercase')[col].ffill())\n",
    "    df.update(df.groupby('Name_lowercase')[col].bfill())\n"
   ]
  },
  {
   "cell_type": "code",
   "execution_count": null,
   "id": "ff37f91d",
   "metadata": {},
   "outputs": [
    {
     "data": {
      "text/plain": [
       "Developers: 0 rows can be filled from duplicates.\n",
       "Publishers: 0 rows can be filled from duplicates.\n",
       "Categories: 0 rows can be filled from duplicates.\n",
       "Genres: 0 rows can be filled from duplicates.\n",
       "Tags: 0 rows can be filled from duplicates.\n"
      ]
     },
     "metadata": {},
     "output_type": "display_data"
    }
   ],
   "source": [
    "# Double checking the missing values after filling\n",
    "cols_to_check = ['Developers', 'Publishers', 'Categories', 'Genres', 'Tags']\n",
    "\n",
    "for col in cols_to_check:\n",
    "    missing_rows = df[df[col].isnull()]\n",
    "    \n",
    "    can_be_filled = missing_rows['Name_lowercase'].isin(\n",
    "        df[~df[col].isnull()]['Name_lowercase']\n",
    "    )\n",
    "    \n",
    "    fillable_rows = missing_rows[can_be_filled]\n",
    "    \n",
    "    print(f\"{col}: {len(fillable_rows)} rows can be filled from duplicates.\")\n"
   ]
  },
  {
   "cell_type": "markdown",
   "id": "48b55d53",
   "metadata": {},
   "source": [
    "After filling missing data within duplicate groups, 5 rows are still empty, althought is being detected as the duplicate contains the much needed information, but my .update approach does not seem to work for this specific situations.\n",
    "\n",
    "This may be because of 1. small differences in how the groups were formed or 2. because the update step did not replace the missing values.  \n",
    "Since the number is small, the next step is to check these rows directly or combine the duplicates into a single row per game."
   ]
  },
  {
   "cell_type": "code",
   "execution_count": null,
   "id": "94e4e13b",
   "metadata": {},
   "outputs": [
    {
     "data": {
      "text/plain": [
       "AppID                            0\n",
       "Name                             1\n",
       "Release date                   129\n",
       "Estimated owners                 0\n",
       "Required age                     0\n",
       "Price                            0\n",
       "User score                       0\n",
       "Positive                         0\n",
       "Negative                         0\n",
       "Recommendations                  0\n",
       "Average playtime forever         0\n",
       "Developers                    6441\n",
       "Publishers                    6737\n",
       "Categories                    7527\n",
       "Genres                        6414\n",
       "Tags                         36720\n",
       "Average owners              110326\n",
       "Positive ratio               37036\n",
       "Estimated average owners        23\n",
       "Name_lowercase                   1\n",
       "dtype: int64\n"
      ]
     },
     "metadata": {},
     "output_type": "display_data"
    }
   ],
   "source": [
    "print(df.isnull().sum())"
   ]
  },
  {
   "cell_type": "code",
   "execution_count": null,
   "id": "e7d2cfcd",
   "metadata": {},
   "outputs": [
    {
     "data": {
      "text/plain": [
       "AppID                            0\n",
       "Name                             0\n",
       "Release date                     0\n",
       "Estimated owners                 0\n",
       "Required age                     0\n",
       "Price                            0\n",
       "User score                       0\n",
       "Positive                         0\n",
       "Negative                         0\n",
       "Recommendations                  0\n",
       "Average playtime forever         0\n",
       "Developers                       0\n",
       "Publishers                       0\n",
       "Categories                       0\n",
       "Genres                           0\n",
       "Tags                             0\n",
       "Average owners              110325\n",
       "Positive ratio                   0\n",
       "Estimated average owners         0\n",
       "Name_lowercase                   0\n",
       "dtype: int64\n"
      ]
     },
     "metadata": {},
     "output_type": "display_data"
    }
   ],
   "source": [
    "# Only 6 rows still have missing values, therefore dropping them might be the better option. \n",
    "# By dropping these rows, we should also be dropping the rows with missing values in Name_lowercase\n",
    "df = df.dropna(subset=['Name'])\n",
    "\n",
    "#filling remaining string columns with 'Unknown'\n",
    "df['Release date'] = df['Release date'].fillna('Unknown')\n",
    "df['Developers'] = df['Developers'].fillna('Unknown')\n",
    "df['Publishers'] = df['Publishers'].fillna('Unknown')\n",
    "df['Categories'] = df['Categories'].fillna('Unknown')\n",
    "df['Genres'] = df['Genres'].fillna('Unknown')\n",
    "df['Tags'] = df['Tags'].fillna('Unknown')\n",
    "\n",
    "# Filling remaining numeric columns with 0\n",
    "df['Estimated average owners'] = df['Estimated average owners'].fillna(0)\n",
    "df['Positive ratio'] = df['Positive ratio'].fillna(0)\n",
    "\n",
    "print(df.isnull().sum())"
   ]
  },
  {
   "cell_type": "markdown",
   "id": "6838f4e6",
   "metadata": {},
   "source": [
    "### Duplicates"
   ]
  },
  {
   "cell_type": "code",
   "execution_count": null,
   "id": "7b949129",
   "metadata": {},
   "outputs": [
    {
     "data": {
      "text/plain": [
       "cleaned\n"
      ]
     },
     "metadata": {},
     "output_type": "display_data"
    }
   ],
   "source": [
    "# Sorting by the priorities\n",
    "df_sorted = df.sort_values(\n",
    "    by=['Estimated average owners', 'Positive ratio', 'Release date'],\n",
    "    ascending=[False, False, False]\n",
    ")\n",
    "\n",
    "# Keeping the first duplicate as its being sorted already\n",
    "df_drop = df_sorted.drop_duplicates('Name_lowercase', keep='first')\n",
    "df_drop.to_csv(data_path_cleaned, index=False, encoding=\"utf-8\")\n",
    "\n",
    "print(\"cleaned\")"
   ]
  },
  {
   "cell_type": "code",
   "execution_count": null,
   "id": "1df24294",
   "metadata": {},
   "outputs": [
    {
     "data": {
      "text/plain": [
       "(0, 19)\n"
      ]
     },
     "metadata": {},
     "output_type": "display_data"
    }
   ],
   "source": [
    "# Double checking the duplicates in the final cleaned file\n",
    "data_path_final = script_path / \"data\" / \"games_cleaned_final.csv\"\n",
    "df2 = pd.read_csv(data_path_final, encoding='utf-8')\n",
    "\n",
    "duplicates2 = df2[df2['Name_lowercase'].duplicated(keep=False)]\n",
    "print(duplicates2.shape)"
   ]
  }
 ],
 "metadata": {
  "language_info": {
   "name": "python"
  }
 },
 "nbformat": 4,
 "nbformat_minor": 5
}
